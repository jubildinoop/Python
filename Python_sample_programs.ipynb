{
 "cells": [
  {
   "cell_type": "markdown",
   "metadata": {},
   "source": [
    "# Prime nos between  & 200"
   ]
  },
  {
   "cell_type": "code",
   "execution_count": 2,
   "metadata": {},
   "outputs": [
    {
     "name": "stdout",
     "output_type": "stream",
     "text": [
      "101\n",
      "103\n",
      "107\n",
      "109\n",
      "113\n",
      "127\n",
      "131\n",
      "137\n",
      "139\n",
      "149\n",
      "151\n",
      "157\n",
      "163\n",
      "167\n",
      "173\n",
      "179\n",
      "181\n",
      "191\n",
      "193\n",
      "197\n",
      "199\n"
     ]
    }
   ],
   "source": [
    "for num in range(100, 200):\n",
    "    if all(num%i!=0 for i in range(2, num)):\n",
    "        print(num)"
   ]
  },
  {
   "cell_type": "markdown",
   "metadata": {},
   "source": [
    "# Sort function to sort elements in a list"
   ]
  },
  {
   "cell_type": "code",
   "execution_count": 9,
   "metadata": {},
   "outputs": [
    {
     "name": "stdout",
     "output_type": "stream",
     "text": [
      "[0, 1, 2, 3, 11, 14, 23, 28, 35, 52, 54, 87, 98]\n"
     ]
    }
   ],
   "source": [
    "list = [23,54,1,0,2,98,14,35,28,11,3,87,52]\n",
    "list.sort() # sorting in ascending order. Instead of this we can use list.sort(reverse=False)\n",
    "print(list)\n",
    "\n",
    "#list.sort(reverse=True) will print descending ordered list"
   ]
  },
  {
   "cell_type": "markdown",
   "metadata": {},
   "source": [
    "# Writing a sorting function without using list.sort() method"
   ]
  },
  {
   "cell_type": "code",
   "execution_count": 12,
   "metadata": {},
   "outputs": [
    {
     "name": "stdout",
     "output_type": "stream",
     "text": [
      "[98, 87, 54, 52, 35, 28, 23, 14, 11, 3, 2, 1, 0]\n"
     ]
    }
   ],
   "source": [
    "list_data = [23,54,1,0,2,98,14,35,28,11,3,87,52]\n",
    "new_list = []\n",
    "while list_data:\n",
    "    min = list_data[0]\n",
    "    for x in list_data:\n",
    "        if x>min:\n",
    "            min = x\n",
    "    new_list.append(min)\n",
    "    list_data.remove(min)\n",
    "        \n",
    "print(new_list)"
   ]
  },
  {
   "cell_type": "code",
   "execution_count": 15,
   "metadata": {},
   "outputs": [
    {
     "name": "stdout",
     "output_type": "stream",
     "text": [
      "[0, 1, 2, 3, 11, 14, 23, 28, 35, 52, 54, 87, 98]\n"
     ]
    }
   ],
   "source": [
    "list = [23,54,1,0,2,98,14,35,28,11,3,87,52]\n",
    "new_list = []\n",
    "while list:\n",
    "    min = list[0]\n",
    "    for x in list:\n",
    "        if x<min:\n",
    "            min=x\n",
    "    new_list.append(min)\n",
    "    list.remove(min)\n",
    "print(new_list)"
   ]
  },
  {
   "cell_type": "markdown",
   "metadata": {},
   "source": [
    "# Fibanocci series"
   ]
  },
  {
   "cell_type": "code",
   "execution_count": 16,
   "metadata": {},
   "outputs": [
    {
     "name": "stdout",
     "output_type": "stream",
     "text": [
      "0\n",
      "1\n",
      "1\n",
      "2\n",
      "3\n",
      "5\n",
      "8\n",
      "13\n",
      "21\n",
      "34\n",
      "55\n",
      "89\n"
     ]
    }
   ],
   "source": [
    "def F(n):\n",
    "    if n == 0: return 0\n",
    "    elif n == 1: return 1\n",
    "    else: return F(n-1)+F(n-2)\n",
    "for i in range(0,12):\n",
    "    print(F(i))\n",
    "    "
   ]
  },
  {
   "cell_type": "markdown",
   "metadata": {},
   "source": [
    "# Print a list in reverse order"
   ]
  },
  {
   "cell_type": "code",
   "execution_count": 17,
   "metadata": {},
   "outputs": [
    {
     "data": {
      "text/plain": [
       "[52, 87, 3, 11, 28, 35, 14, 98, 2, 0, 1, 54, 23]"
      ]
     },
     "execution_count": 17,
     "metadata": {},
     "output_type": "execute_result"
    }
   ],
   "source": [
    "list = [23,54,1,0,2,98,14,35,28,11,3,87,52]\n",
    "def rev(l):\n",
    "    return l[::-1]\n",
    "\n",
    "rev(list)"
   ]
  },
  {
   "cell_type": "markdown",
   "metadata": {},
   "source": [
    "# Whether a string is Palindrome or not"
   ]
  },
  {
   "cell_type": "code",
   "execution_count": 20,
   "metadata": {},
   "outputs": [
    {
     "data": {
      "text/plain": [
       "False"
      ]
     },
     "execution_count": 20,
     "metadata": {},
     "output_type": "execute_result"
    }
   ],
   "source": [
    "def isPalindrome(s):\n",
    "    rev = ''.join(reversed(s))\n",
    "    \n",
    "    if s == rev:\n",
    "        return True\n",
    "    return False\n",
    "isPalindrome(\"jubil\")"
   ]
  },
  {
   "cell_type": "markdown",
   "metadata": {},
   "source": [
    "# Print set of duplicates in a list"
   ]
  },
  {
   "cell_type": "code",
   "execution_count": 21,
   "metadata": {},
   "outputs": [
    {
     "name": "stdout",
     "output_type": "stream",
     "text": [
      "{1, 2, 5, 8, 9}\n"
     ]
    }
   ],
   "source": [
    "l = [1,1,2,2,3,4,5,5,6,7,8,8,9,9,9]\n",
    "print(set(x for x in l if l.count(x)>1))"
   ]
  },
  {
   "cell_type": "markdown",
   "metadata": {},
   "source": [
    "# print no. of words in a given sentence"
   ]
  },
  {
   "cell_type": "code",
   "execution_count": 22,
   "metadata": {},
   "outputs": [
    {
     "name": "stdout",
     "output_type": "stream",
     "text": [
      "6\n"
     ]
    }
   ],
   "source": [
    "str = 'hi i am really happy today'\n",
    "print(len(str.split()))"
   ]
  },
  {
   "cell_type": "markdown",
   "metadata": {},
   "source": [
    "# Write a function to search a given element in an array"
   ]
  },
  {
   "cell_type": "code",
   "execution_count": 24,
   "metadata": {},
   "outputs": [
    {
     "name": "stdout",
     "output_type": "stream",
     "text": [
      "Item not present in array\n"
     ]
    }
   ],
   "source": [
    "def search(arr, x): # x is the item to be checked\n",
    "    for i in range(len(arr)):\n",
    "        if arr[i] == x:\n",
    "            return 1\n",
    "    print(\"Item not present in array\")\n",
    "    \n",
    "arr_item = [1,2,3,4,5,6]\n",
    "search(arr_item,10) #arguments to the function are the given array and the item to check"
   ]
  },
  {
   "cell_type": "markdown",
   "metadata": {},
   "source": [
    "# Binary search"
   ]
  },
  {
   "cell_type": "code",
   "execution_count": 28,
   "metadata": {},
   "outputs": [
    {
     "data": {
      "text/plain": [
       "4"
      ]
     },
     "execution_count": 28,
     "metadata": {},
     "output_type": "execute_result"
    }
   ],
   "source": [
    "def binary_Search(array, target): # function will return the index position of the target value\n",
    "    lower = 0\n",
    "    upper = len(array)\n",
    "    while lower<upper:\n",
    "        x = lower + (upper - lower)//2\n",
    "        val = array[x]\n",
    "        if target == val:\n",
    "            return x\n",
    "        elif target>val:\n",
    "            if lower == x:\n",
    "                break\n",
    "            lower = x\n",
    "        elif target<val:\n",
    "            upper = x\n",
    "            \n",
    "l = [1,2,3,4,5,6]\n",
    "binary_Search(l,5)"
   ]
  },
  {
   "cell_type": "markdown",
   "metadata": {},
   "source": [
    "# To join two strings using join() function"
   ]
  },
  {
   "cell_type": "code",
   "execution_count": 50,
   "metadata": {},
   "outputs": [
    {
     "name": "stdout",
     "output_type": "stream",
     "text": [
      "Hello JavaTpoint\n"
     ]
    }
   ],
   "source": [
    "str1 = \"Hello\"  \n",
    "str2 = \"JavaTpoint\"  \n",
    "  \n",
    "# join() method is used to combine the strings  \n",
    "str3 = \" \".join([str1, str2])  \n",
    "  \n",
    "print(str3)  \n"
   ]
  },
  {
   "cell_type": "markdown",
   "metadata": {},
   "source": [
    "# Extract digits from given string"
   ]
  },
  {
   "cell_type": "code",
   "execution_count": 52,
   "metadata": {},
   "outputs": [
    {
     "name": "stdout",
     "output_type": "stream",
     "text": [
      "The original string is : abc1d67gh34ft8yhs45gt6yt\n",
      "The digits from given string are : 167348456\n"
     ]
    }
   ],
   "source": [
    "org_string = \"abc1d67gh34ft8yhs45gt6yt\"\n",
    "print(\"The original string is : \" + org_string)\n",
    "\n",
    "res = ''.join(filter(lambda i: i.isdigit(), org_string))\n",
    "print(\"The digits from given string are : \" +res)"
   ]
  },
  {
   "cell_type": "markdown",
   "metadata": {},
   "source": [
    "# Split strings using new line delimiter"
   ]
  },
  {
   "cell_type": "code",
   "execution_count": 59,
   "metadata": {},
   "outputs": [
    {
     "name": "stdout",
     "output_type": "stream",
     "text": [
      "The original string is :  I am very happy\n",
      "String after spliting is :  ['I', 'am', 'very', 'happy']\n"
     ]
    }
   ],
   "source": [
    "str1 = \"I am very happy\"\n",
    "print(\"The original string is : \", str1)\n",
    "\n",
    "res = (str1.rstrip().split(' '))\n",
    "print(\"String after spliting is : \", res)"
   ]
  },
  {
   "cell_type": "markdown",
   "metadata": {},
   "source": [
    "# Delete reoccuring charater from a given string input and return the new string"
   ]
  },
  {
   "cell_type": "code",
   "execution_count": 63,
   "metadata": {},
   "outputs": [
    {
     "data": {
      "text/plain": [
       "' abcdefgh'"
      ]
     },
     "execution_count": 63,
     "metadata": {},
     "output_type": "execute_result"
    }
   ],
   "source": [
    "def deleteReoccuringCharacters(string):\n",
    "    seenCharacter = set()\n",
    "    outString = ' '\n",
    "    for char in string:\n",
    "        if char not in seenCharacter:\n",
    "            seenCharacter.add(char)\n",
    "            outString += char\n",
    "    return outString\n",
    "\n",
    "deleteReoccuringCharacters(\"aaaabbbbbcccccddddefghhhh\")"
   ]
  },
  {
   "cell_type": "code",
   "execution_count": null,
   "metadata": {},
   "outputs": [],
   "source": []
  }
 ],
 "metadata": {
  "kernelspec": {
   "display_name": "Python 3",
   "language": "python",
   "name": "python3"
  },
  "language_info": {
   "codemirror_mode": {
    "name": "ipython",
    "version": 3
   },
   "file_extension": ".py",
   "mimetype": "text/x-python",
   "name": "python",
   "nbconvert_exporter": "python",
   "pygments_lexer": "ipython3",
   "version": "3.8.5"
  }
 },
 "nbformat": 4,
 "nbformat_minor": 4
}
