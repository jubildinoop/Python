{
 "cells": [
  {
   "cell_type": "markdown",
   "metadata": {},
   "source": [
    "# Smallest number in a list"
   ]
  },
  {
   "cell_type": "code",
   "execution_count": 4,
   "metadata": {},
   "outputs": [
    {
     "name": "stdout",
     "output_type": "stream",
     "text": [
      "Enter the no. of elements in the list : 4\n",
      "Enter elements: 1\n",
      "Enter elements: 5\n",
      "Enter elements: 8\n",
      "Enter elements: 6\n",
      "Smallest element in the list is :  1\n"
     ]
    }
   ],
   "source": [
    "list=[]\n",
    "\n",
    "n=int(input(\"Enter the no. of elements in the list : \"))\n",
    "for i in range(1,n+1):\n",
    "    elements=int(input(\"Enter elements: \"))\n",
    "    list.append(elements)\n",
    "    \n",
    "print(\"Smallest element in the list is : \", min(list))"
   ]
  },
  {
   "cell_type": "markdown",
   "metadata": {},
   "source": [
    "# Interchanging first and last elements in a list"
   ]
  },
  {
   "cell_type": "code",
   "execution_count": 6,
   "metadata": {},
   "outputs": [
    {
     "name": "stdout",
     "output_type": "stream",
     "text": [
      "Enter the no. of elements in the list : 5\n",
      "Elements in the list are : 1\n",
      "Elements in the list are : 4\n",
      "Elements in the list are : 5\n",
      "Elements in the list are : 2\n",
      "Elements in the list are : 8\n",
      "The list befor swapping is :  [1, 4, 5, 2, 8]\n",
      "The new list is [8, 4, 5, 2, 1]\n"
     ]
    }
   ],
   "source": [
    "list=[]\n",
    "\n",
    "n= int(input(\"Enter the no. of elements in the list : \"))\n",
    "for i in range(1,n+1):\n",
    "    ele=int(input(\"Elements in the list are : \"))\n",
    "    list.append(ele)\n",
    "    \n",
    "print(\"The list befor swapping is : \",list)\n",
    "    \n",
    "temp=list[0]\n",
    "list[0]=list[n-1]\n",
    "list[n-1]=temp\n",
    "\n",
    "print(\"The new list after swapping is {0}\".format(list))"
   ]
  },
  {
   "cell_type": "markdown",
   "metadata": {},
   "source": [
    "# Print even numbers in a list"
   ]
  },
  {
   "cell_type": "code",
   "execution_count": 30,
   "metadata": {},
   "outputs": [
    {
     "name": "stdout",
     "output_type": "stream",
     "text": [
      "Enter limit: 10\n",
      "Elements are: 1\n",
      "Elements are: 2\n",
      "Elements are: 4\n",
      "Elements are: 5\n",
      "Elements are: 8\n",
      "Elements are: 7\n",
      "Elements are: 6\n",
      "Elements are: 12\n",
      "Elements are: 3\n",
      "Elements are: 5\n",
      "The list is :  [1, 2, 4, 5, 8, 7, 6, 12, 3, 5]\n",
      "2 4 8 6 12 "
     ]
    }
   ],
   "source": [
    "list=[]\n",
    "\n",
    "n=int(input(\"Enter limit: \"))\n",
    "for i in range(1, n+1):\n",
    "    ele=int(input(\"Elements are: \"))\n",
    "    list.append(ele)\n",
    "    \n",
    "print(\"The list is : \",list)\n",
    "\n",
    "for num in list:\n",
    "    if num%2==0:\n",
    "        print(num, end=\" \")"
   ]
  },
  {
   "cell_type": "markdown",
   "metadata": {},
   "source": [
    "# Print odd numbers in a list"
   ]
  },
  {
   "cell_type": "code",
   "execution_count": 31,
   "metadata": {},
   "outputs": [
    {
     "name": "stdout",
     "output_type": "stream",
     "text": [
      "Enter a limit : 6\n",
      "Elements are : 3\n",
      "Elements are : 5\n",
      "Elements are : 4\n",
      "Elements are : 2\n",
      "Elements are : 8\n",
      "Elements are : 7\n",
      "The list is :  [3, 5, 4, 2, 8, 7]\n",
      "3 5 7 "
     ]
    }
   ],
   "source": [
    "list=[]\n",
    "\n",
    "n=int(input(\"Enter a limit : \"))\n",
    "for i in range(1,n+1):\n",
    "    ele=int(input(\"Elements are : \"))\n",
    "    list.append(ele)\n",
    "    \n",
    "print(\"The list is : \", list)\n",
    "\n",
    "for num in list:\n",
    "    if num%2!=0:\n",
    "        print(num, end=\" \")"
   ]
  },
  {
   "cell_type": "markdown",
   "metadata": {},
   "source": [
    "# Print positive numbers in a list"
   ]
  },
  {
   "cell_type": "code",
   "execution_count": 34,
   "metadata": {},
   "outputs": [
    {
     "name": "stdout",
     "output_type": "stream",
     "text": [
      "Enter a limit : 5\n",
      "Elements are : -1\n",
      "Elements are : 2\n",
      "Elements are : 6\n",
      "Elements are : -5\n",
      "Elements are : 8\n",
      "The list is  [-1, 2, 6, -5, 8]\n",
      "2 6 8 "
     ]
    }
   ],
   "source": [
    "list=[]\n",
    "\n",
    "n=int(input(\"Enter a limit : \"))\n",
    "for i in range(1,n+1):\n",
    "    ele=int(input(\"Elements are : \"))\n",
    "    list.append(ele)\n",
    "    \n",
    "print(\"The list is \", list)\n",
    "\n",
    "for num in list:\n",
    "    if num>0:\n",
    "        print(num, end=\" \")"
   ]
  },
  {
   "cell_type": "markdown",
   "metadata": {},
   "source": [
    "# Average and percetage of 5 subject's mark"
   ]
  },
  {
   "cell_type": "code",
   "execution_count": 3,
   "metadata": {},
   "outputs": [
    {
     "name": "stdout",
     "output_type": "stream",
     "text": [
      "Enter the marks of 5 subjects out of 50\n",
      "40\n",
      "45\n",
      "38\n",
      "42\n",
      "44\n",
      "Average of 5 subjects is :  41.8\n",
      "Percentage is :  83.6\n"
     ]
    }
   ],
   "source": [
    "list=[]\n",
    "sum=0\n",
    "\n",
    "print(\"Enter the marks of 5 subjects out of 50\")\n",
    "for i in range(5):\n",
    "    list.insert(i,int(input()))\n",
    "    \n",
    "for i in range(5):\n",
    "    sum=sum+list[i]\n",
    "    \n",
    "avg=sum/5\n",
    "per=(sum/250)*100\n",
    "\n",
    "print(\"Average of 5 subjects is : \",avg)\n",
    "print(\"Percentage is : \",per)"
   ]
  },
  {
   "cell_type": "markdown",
   "metadata": {},
   "source": [
    "# Second largest number in a list"
   ]
  },
  {
   "cell_type": "code",
   "execution_count": 5,
   "metadata": {},
   "outputs": [
    {
     "name": "stdout",
     "output_type": "stream",
     "text": [
      "Enter a limit : 5\n",
      "Elements are : 10\n",
      "Elements are : 4\n",
      "Elements are : 1\n",
      "Elements are : 8\n",
      "Elements are : 6\n",
      "[10, 4, 1, 8, 6]\n",
      "The second largest number is  8\n"
     ]
    }
   ],
   "source": [
    "list=[]\n",
    "\n",
    "n=int(input(\"Enter a limit : \"))\n",
    "for i in range(1,n+1):\n",
    "    ele=int(input(\"Elements are : \"))\n",
    "    list.append(ele)\n",
    "    \n",
    "print(list)\n",
    "list.sort()\n",
    "print(\"The second largest number is \", list[-2])"
   ]
  },
  {
   "cell_type": "markdown",
   "metadata": {},
   "source": [
    "# Calender"
   ]
  },
  {
   "cell_type": "code",
   "execution_count": 7,
   "metadata": {},
   "outputs": [
    {
     "name": "stdout",
     "output_type": "stream",
     "text": [
      "Enter the year: 2021\n",
      "Enter a month: 8\n",
      "    August 2021\n",
      "Mo Tu We Th Fr Sa Su\n",
      "                   1\n",
      " 2  3  4  5  6  7  8\n",
      " 9 10 11 12 13 14 15\n",
      "16 17 18 19 20 21 22\n",
      "23 24 25 26 27 28 29\n",
      "30 31\n",
      "\n"
     ]
    }
   ],
   "source": [
    "import calendar\n",
    "\n",
    "year=int(input(\"Enter the year: \"))\n",
    "month=int(input(\"Enter a month: \"))\n",
    "\n",
    "print(calendar.month(year,month))"
   ]
  },
  {
   "cell_type": "markdown",
   "metadata": {},
   "source": [
    "# Natural numbers 1 to n"
   ]
  },
  {
   "cell_type": "code",
   "execution_count": 10,
   "metadata": {},
   "outputs": [
    {
     "name": "stdout",
     "output_type": "stream",
     "text": [
      "Enter a limit : 5\n",
      "1 2 3 4 5 "
     ]
    }
   ],
   "source": [
    "n=int(input(\"Enter a limit : \"))\n",
    "for i in range(1,n+1):\n",
    "    print(i, end=\" \")"
   ]
  },
  {
   "cell_type": "markdown",
   "metadata": {},
   "source": [
    "# Even numbers from 1 to 100"
   ]
  },
  {
   "cell_type": "code",
   "execution_count": 11,
   "metadata": {},
   "outputs": [
    {
     "name": "stdout",
     "output_type": "stream",
     "text": [
      "Enter the maximum number : 100\n",
      "2 4 6 8 10 12 14 16 18 20 22 24 26 28 30 32 34 36 38 40 42 44 46 48 50 52 54 56 58 60 62 64 66 68 70 72 74 76 78 80 82 84 86 88 90 92 94 96 98 100 "
     ]
    }
   ],
   "source": [
    "max=int(input(\"Enter the maximum number : \"))\n",
    "\n",
    "for i in range(1,max+1):\n",
    "    if i%2==0:\n",
    "        print(i, end=\" \")"
   ]
  },
  {
   "cell_type": "markdown",
   "metadata": {},
   "source": [
    "# Square root of a number"
   ]
  },
  {
   "cell_type": "code",
   "execution_count": 4,
   "metadata": {},
   "outputs": [
    {
     "name": "stdout",
     "output_type": "stream",
     "text": [
      "Enter a number: 35\n",
      "5.916079783099616\n"
     ]
    }
   ],
   "source": [
    "import math\n",
    "number=float(input(\"Enter a number: \"))\n",
    "sqrt_no=math.sqrt(number)\n",
    "print(sqrt_no)"
   ]
  },
  {
   "cell_type": "markdown",
   "metadata": {},
   "source": [
    "# Find compound interest\n",
    "\n",
    "future compound interest=principle amount*(1+rate of interest)^no.of years\n",
    "\n",
    "compound interst=future compound interest-principle amount"
   ]
  },
  {
   "cell_type": "code",
   "execution_count": 7,
   "metadata": {},
   "outputs": [
    {
     "name": "stdout",
     "output_type": "stream",
     "text": [
      "Enter the Principle amount : 25000\n",
      "Enter the Rate of interest: 11.6\n",
      "Enter the time period in years: 4\n",
      "Future compound interest for the principle amount 25000.0 is 38779.016198400015\n",
      "Compound interst for the principle amount 25000.0 is 13779.016198400015\n"
     ]
    }
   ],
   "source": [
    "import math\n",
    "\n",
    "prin_amt=float(input(\"Enter the Principle amount : \"))\n",
    "rate_f_int=float(input(\"Enter the Rate of interest: \"))\n",
    "time_period=float(input(\"Enter the time period in years: \"))\n",
    "\n",
    "fut_ci=prin_amt*(math.pow(1+rate_f_int/100,time_period))\n",
    "cmpd_int=fut_ci-prin_amt\n",
    "\n",
    "print(\"Future compound interest for the principle amount {0} is {1}\".format(prin_amt,fut_ci))\n",
    "print(\"Compound interst for the principle amount {0} is {1}\".format(prin_amt,cmpd_int))"
   ]
  },
  {
   "cell_type": "markdown",
   "metadata": {},
   "source": [
    "# Number divisible by 5 and 11"
   ]
  },
  {
   "cell_type": "code",
   "execution_count": 12,
   "metadata": {},
   "outputs": [
    {
     "name": "stdout",
     "output_type": "stream",
     "text": [
      "Enter a number : 22\n",
      "Not applicable\n"
     ]
    }
   ],
   "source": [
    "n=int(input(\"Enter a number : \"))\n",
    "\n",
    "if n%5==0 and n%11==0:\n",
    "    print(n)\n",
    "else:\n",
    "    print(\"Not applicable\")"
   ]
  },
  {
   "cell_type": "markdown",
   "metadata": {},
   "source": [
    "# Power of a number"
   ]
  },
  {
   "cell_type": "code",
   "execution_count": 1,
   "metadata": {},
   "outputs": [
    {
     "name": "stdout",
     "output_type": "stream",
     "text": [
      "Enter a number : 3\n",
      "Enter the exponent: 4\n",
      "The power of number 3 with exponent value 4 is 81\n"
     ]
    }
   ],
   "source": [
    "number=int(input(\"Enter a number : \"))\n",
    "exp=int(input(\"Enter the exponent: \"))\n",
    "power=1\n",
    "\n",
    "for i in range(1,exp+1):\n",
    "    power=power*number\n",
    "    \n",
    "print(\"The power of number {1} with exponent value {0} is {2}\".format(exp,number,power))"
   ]
  },
  {
   "cell_type": "markdown",
   "metadata": {},
   "source": [
    "# Multiplication Table"
   ]
  },
  {
   "cell_type": "code",
   "execution_count": 6,
   "metadata": {},
   "outputs": [
    {
     "name": "stdout",
     "output_type": "stream",
     "text": [
      "Enter a limit: 6\n",
      "Enter a number : 4\n",
      ".......Multiplication Table...........\n",
      "4  *  1  =  4\n",
      "4  *  2  =  8\n",
      "4  *  3  =  12\n",
      "4  *  4  =  16\n",
      "4  *  5  =  20\n",
      "4  *  6  =  24\n",
      "4  *  7  =  28\n",
      "4  *  8  =  32\n",
      "4  *  9  =  36\n",
      "4  *  10  =  40\n",
      "***************************\n",
      "5  *  1  =  5\n",
      "5  *  2  =  10\n",
      "5  *  3  =  15\n",
      "5  *  4  =  20\n",
      "5  *  5  =  25\n",
      "5  *  6  =  30\n",
      "5  *  7  =  35\n",
      "5  *  8  =  40\n",
      "5  *  9  =  45\n",
      "5  *  10  =  50\n",
      "***************************\n",
      "6  *  1  =  6\n",
      "6  *  2  =  12\n",
      "6  *  3  =  18\n",
      "6  *  4  =  24\n",
      "6  *  5  =  30\n",
      "6  *  6  =  36\n",
      "6  *  7  =  42\n",
      "6  *  8  =  48\n",
      "6  *  9  =  54\n",
      "6  *  10  =  60\n",
      "***************************\n"
     ]
    }
   ],
   "source": [
    "n=int(input(\"Enter a limit: \"))\n",
    "num=int(input(\"Enter a number : \"))\n",
    "print(\".......Multiplication Table...........\")\n",
    "\n",
    "for i in range(num,n+1):\n",
    "    for j in range(1,11):\n",
    "        print(\"{0}  *  {1}  =  {2}\".format(i,j,i*j))\n",
    "    print(\"***************************\")"
   ]
  },
  {
   "cell_type": "markdown",
   "metadata": {},
   "source": [
    "# Natural numbers in reverse order"
   ]
  },
  {
   "cell_type": "code",
   "execution_count": 5,
   "metadata": {},
   "outputs": [
    {
     "name": "stdout",
     "output_type": "stream",
     "text": [
      "Enter a number : 60\n",
      "60 59 58 57 56 55 54 53 52 51 50 49 48 47 46 45 44 43 42 41 40 39 38 37 36 35 34 33 32 31 30 29 28 27 26 25 24 23 22 21 20 19 18 17 16 15 14 13 12 11 10 9 8 7 6 5 4 3 2 1 "
     ]
    }
   ],
   "source": [
    "n=int(input(\"Enter a number : \"))\n",
    "while n>=1:\n",
    "    print(n, end=\" \")\n",
    "    n=n-1"
   ]
  },
  {
   "cell_type": "markdown",
   "metadata": {},
   "source": [
    "# Sum of natural numbers"
   ]
  },
  {
   "cell_type": "code",
   "execution_count": 4,
   "metadata": {},
   "outputs": [
    {
     "name": "stdout",
     "output_type": "stream",
     "text": [
      "Enter a limit : 10\n",
      "The sum of natural numbers from 1 to 10 is 55\n"
     ]
    }
   ],
   "source": [
    "n=int(input(\"Enter a limit : \"))\n",
    "sum=0\n",
    "for i in range(1,n+1):\n",
    "    sum=sum+i\n",
    "    \n",
    "print(\"The sum of natural numbers from 1 to {0} is {1}\".format(n,sum))"
   ]
  },
  {
   "cell_type": "markdown",
   "metadata": {},
   "source": [
    "# Sum of even and odd numbers in natural number list"
   ]
  },
  {
   "cell_type": "code",
   "execution_count": 6,
   "metadata": {},
   "outputs": [
    {
     "name": "stdout",
     "output_type": "stream",
     "text": [
      "Enter a limit : 15\n",
      "The sum of even numbers from 1 to 15 is 56\n",
      "The sum of odd numbers from 1 to 15 is 64\n"
     ]
    }
   ],
   "source": [
    "even_sum=0\n",
    "odd_sum=0\n",
    "n=int(input(\"Enter a limit : \"))\n",
    "for i in range(1,n+1):\n",
    "    if i%2==0:\n",
    "        even_sum=even_sum+i\n",
    "    else:\n",
    "        odd_sum=odd_sum+i\n",
    "        \n",
    "print(\"The sum of even numbers from 1 to {0} is {1}\".format(n,even_sum))\n",
    "print(\"The sum of odd numbers from 1 to {0} is {1}\".format(n,odd_sum))"
   ]
  },
  {
   "cell_type": "code",
   "execution_count": null,
   "metadata": {},
   "outputs": [],
   "source": []
  }
 ],
 "metadata": {
  "kernelspec": {
   "display_name": "Python 3",
   "language": "python",
   "name": "python3"
  },
  "language_info": {
   "codemirror_mode": {
    "name": "ipython",
    "version": 3
   },
   "file_extension": ".py",
   "mimetype": "text/x-python",
   "name": "python",
   "nbconvert_exporter": "python",
   "pygments_lexer": "ipython3",
   "version": "3.8.5"
  }
 },
 "nbformat": 4,
 "nbformat_minor": 4
}
