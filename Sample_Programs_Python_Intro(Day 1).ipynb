{
 "cells": [
  {
   "cell_type": "code",
   "execution_count": 1,
   "metadata": {},
   "outputs": [
    {
     "name": "stdout",
     "output_type": "stream",
     "text": [
      "Enter your name :  JUBIL\n",
      "Enter your age : 29\n",
      "Enter your place : KOTTAYAM\n",
      "You are JUBIL having age 29 coming from KOTTAYAM\n"
     ]
    }
   ],
   "source": [
    "name = input(\"Enter your name :  \")\n",
    "age = input(\"Enter your age : \")\n",
    "place = input(\"Enter your place : \")\n",
    "\n",
    "print(\"You are {0} having age {1} coming from {2}\".format(name, age, place))"
   ]
  },
  {
   "cell_type": "code",
   "execution_count": 2,
   "metadata": {},
   "outputs": [
    {
     "name": "stdout",
     "output_type": "stream",
     "text": [
      "Enter first number : 10\n",
      "Enter second number : 5\n",
      "The given two numbers are 10 & 5 with sum is 15, difference is 5, product is 50 and division is 2.0\n"
     ]
    }
   ],
   "source": [
    "a = int(input(\"Enter first number : \"))\n",
    "b = int(input(\"Enter second number : \"))\n",
    "\n",
    "sum = a+b\n",
    "diff = a-b\n",
    "prod = a*b\n",
    "div = a/b\n",
    "\n",
    "print(\"The given two numbers are {0} & {1} with sum is {2}, difference is {3}, product is {4} and division is {5}\".format(a,b,sum,diff,prod,div))"
   ]
  },
  {
   "cell_type": "code",
   "execution_count": 5,
   "metadata": {},
   "outputs": [
    {
     "name": "stdout",
     "output_type": "stream",
     "text": [
      "Enter first number : 20\n",
      "Enter second number : 2\n",
      "Enter third number : 15\n",
      "The number 20 is big\n"
     ]
    }
   ],
   "source": [
    "a = int(input(\"Enter first number : \"))\n",
    "b = int(input(\"Enter second number : \"))\n",
    "c = int(input(\"Enter third number : \"))\n",
    "\n",
    "if a>b and a>c:\n",
    "    print(\"The number {0} is big\".format(a))\n",
    "elif b>c:\n",
    "    print(\"The number {0} is big\".format(b))\n",
    "else:\n",
    "    print(\"The number {0} is big\".format(c))"
   ]
  },
  {
   "cell_type": "code",
   "execution_count": 7,
   "metadata": {},
   "outputs": [
    {
     "name": "stdout",
     "output_type": "stream",
     "text": [
      "Enter a number : 5\n",
      "1\n",
      "2\n",
      "3\n",
      "4\n"
     ]
    }
   ],
   "source": [
    "a = int(input(\"Enter a number : \"))\n",
    "\n",
    "for i in range(1,a):\n",
    "    print(i)"
   ]
  },
  {
   "cell_type": "code",
   "execution_count": 11,
   "metadata": {},
   "outputs": [
    {
     "name": "stdout",
     "output_type": "stream",
     "text": [
      "Enter a limit : 5\n",
      "0\n",
      "1\n",
      "4\n",
      "9\n",
      "16\n",
      "25\n"
     ]
    }
   ],
   "source": [
    "n = int(input(\"Enter a limit : \"))\n",
    "\n",
    "for i in range(0,n+1):\n",
    "    print(i*i)"
   ]
  },
  {
   "cell_type": "code",
   "execution_count": 12,
   "metadata": {},
   "outputs": [
    {
     "name": "stdout",
     "output_type": "stream",
     "text": [
      "Enter a limit : 5\n",
      "1,2,3,4,"
     ]
    }
   ],
   "source": [
    "n = int(input(\"Enter a limit : \"))\n",
    "\n",
    "for i in range(1,n):\n",
    "    print(i, end=\",\")"
   ]
  },
  {
   "cell_type": "code",
   "execution_count": 14,
   "metadata": {},
   "outputs": [
    {
     "name": "stdout",
     "output_type": "stream",
     "text": [
      "Enter an year : 2021\n",
      "The year 2021 is not a leap-year\n"
     ]
    }
   ],
   "source": [
    "year = int(input(\"Enter an year : \"))\n",
    "\n",
    "if year%400 ==0 or year%100!=0 and year%4 ==0:\n",
    "    print(\"The year {0} is a leap-year\".format(year))\n",
    "else:\n",
    "    print(\"The year {0} is not a leap-year\".format(year))"
   ]
  },
  {
   "cell_type": "code",
   "execution_count": 16,
   "metadata": {},
   "outputs": [
    {
     "name": "stdout",
     "output_type": "stream",
     "text": [
      "Enter an year: 2020\n"
     ]
    },
    {
     "data": {
      "text/plain": [
       "True"
      ]
     },
     "execution_count": 16,
     "metadata": {},
     "output_type": "execute_result"
    }
   ],
   "source": [
    "def is_leap(year):\n",
    "    if year%400==0 or year%100!=0 and year%4==0:\n",
    "        return True\n",
    "    else:\n",
    "        return False\n",
    "    \n",
    "year = int(input(\"Enter an year: \"))\n",
    "\n",
    "is_leap(year)"
   ]
  },
  {
   "cell_type": "code",
   "execution_count": 19,
   "metadata": {},
   "outputs": [
    {
     "name": "stdout",
     "output_type": "stream",
     "text": [
      "Enter a number : 30\n",
      "Not weired\n"
     ]
    }
   ],
   "source": [
    "n = int(input(\"Enter a number : \"))\n",
    "\n",
    "if n%2!=0:\n",
    "    print(\"Weired\")\n",
    "elif n>=2 and n<=5:\n",
    "    print(\"Not weired\")\n",
    "elif n>=6 and n<=20:\n",
    "    print(\"Weired\")\n",
    "elif n>20:\n",
    "    print(\"Not weired\")"
   ]
  },
  {
   "cell_type": "code",
   "execution_count": 22,
   "metadata": {},
   "outputs": [
    {
     "name": "stdout",
     "output_type": "stream",
     "text": [
      "Enter a number : 8\n",
      "The number 8 is not prime\n"
     ]
    }
   ],
   "source": [
    "n = int(input(\"Enter a number : \"))\n",
    "flag = False\n",
    "\n",
    "if n>1:\n",
    "    for i in range(2,n):\n",
    "        if n%i ==0:\n",
    "            flag=True\n",
    "            break\n",
    "            \n",
    "if flag:\n",
    "    print(\"The number {0} is not prime\".format(n))\n",
    "else:\n",
    "    print(\"The number {0} is prime\".format(n))"
   ]
  },
  {
   "cell_type": "code",
   "execution_count": 27,
   "metadata": {},
   "outputs": [
    {
     "name": "stdout",
     "output_type": "stream",
     "text": [
      "Enter a number : 10\n",
      "Factorial of given number 10 is 3628800\n"
     ]
    }
   ],
   "source": [
    "n = int(input(\"Enter a number : \"))\n",
    "fact = 1\n",
    "\n",
    "if n<0:\n",
    "    print(\"Sorry, to find factorial of the given number {0} is not possible\".format(n))\n",
    "elif n==0:\n",
    "    print(\"The factorial of given number {0} is 0\".format(n))\n",
    "else:\n",
    "    for i in range(1,n+1):\n",
    "        fact = fact*i\n",
    "    print(\"Factorial of given number {0} is {1}\".format(n,fact))"
   ]
  },
  {
   "cell_type": "code",
   "execution_count": null,
   "metadata": {},
   "outputs": [],
   "source": []
  }
 ],
 "metadata": {
  "kernelspec": {
   "display_name": "Python 3",
   "language": "python",
   "name": "python3"
  },
  "language_info": {
   "codemirror_mode": {
    "name": "ipython",
    "version": 3
   },
   "file_extension": ".py",
   "mimetype": "text/x-python",
   "name": "python",
   "nbconvert_exporter": "python",
   "pygments_lexer": "ipython3",
   "version": "3.8.5"
  }
 },
 "nbformat": 4,
 "nbformat_minor": 4
}
